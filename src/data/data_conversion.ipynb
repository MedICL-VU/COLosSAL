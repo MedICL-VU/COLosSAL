{
 "cells": [
  {
   "cell_type": "markdown",
   "id": "760a3c76",
   "metadata": {},
   "source": [
    "### Resample images from MSD and save as h5 files"
   ]
  },
  {
   "cell_type": "code",
   "execution_count": 2,
   "id": "f77fbe1a",
   "metadata": {},
   "outputs": [
    {
     "name": "stderr",
     "output_type": "stream",
     "text": [
      "/home/VANDERBILT/liuh26/anaconda3/envs/seg/lib/python3.9/site-packages/tqdm/auto.py:22: TqdmWarning: IProgress not found. Please update jupyter and ipywidgets. See https://ipywidgets.readthedocs.io/en/stable/user_install.html\n",
      "  from .autonotebook import tqdm as notebook_tqdm\n"
     ]
    }
   ],
   "source": [
    "import os\n",
    "import os.path as osp\n",
    "import SimpleITK as sitk\n",
    "from glob import glob\n",
    "from tqdm import tqdm\n",
    "import nibabel as nib\n",
    "import numpy as np\n",
    "from monai.transforms import *"
   ]
  },
  {
   "cell_type": "code",
   "execution_count": 3,
   "id": "35258487",
   "metadata": {},
   "outputs": [],
   "source": [
    "def resample(data_dict, out_spacing, save_dir):\n",
    "    \n",
    "    return Compose([\n",
    "        LoadImaged(keys=['image', 'label']),\n",
    "        \n",
    "        AddChanneld(keys=[\"image\", \"label\"]),\n",
    "        \n",
    "        Spacingd(\n",
    "            keys=['image', 'label'], \n",
    "            pixdim=out_spacing, \n",
    "            mode=(\"bilinear\", \"nearest\")),\n",
    "        \n",
    "        SaveImaged(\n",
    "            keys=['image'], \n",
    "            output_dir=osp.join(save_dir, 'imagesTr_res'), \n",
    "            output_postfix='', \n",
    "            output_ext='.nii.gz', \n",
    "            resample=False,\n",
    "            separate_folder=False,\n",
    "            print_log=False),\n",
    "        \n",
    "        SaveImaged(\n",
    "            keys=['label'], \n",
    "            output_dir=osp.join(save_dir, 'labelsTr_res'), \n",
    "            output_postfix='', \n",
    "            output_ext='.nii.gz', \n",
    "            resample=False,\n",
    "            separate_folder=False,\n",
    "            print_log=False),\n",
    "        \n",
    "    ])(data_dict)\n"
   ]
  },
  {
   "cell_type": "code",
   "execution_count": 4,
   "id": "5a21b164",
   "metadata": {
    "scrolled": false
   },
   "outputs": [
    {
     "name": "stderr",
     "output_type": "stream",
     "text": [
      "100%|█████████████████████████████████████████████| 131/131 [31:36<00:00, 14.48s/it]\n",
      "100%|█████████████████████████████████████████████| 281/281 [23:37<00:00,  5.04s/it]\n",
      "100%|█████████████████████████████████████████████| 303/303 [20:53<00:00,  4.14s/it]\n"
     ]
    }
   ],
   "source": [
    "# data_dirs = ['../../data/Task09_Spleen', \n",
    "#              '../../data/Task03_Liver', \n",
    "#              '../../data/Task07_Pancreas',\n",
    "#              '../../data/Task08_HepaticVessel']\n",
    "\n",
    "data_dirs = ['../../data/Task03_Liver', \n",
    "             '../../data/Task07_Pancreas',\n",
    "             '../../data/Task08_HepaticVessel']\n",
    "\n",
    "\n",
    "for data_dir in data_dirs:\n",
    "    img_paths = glob(osp.join(data_dir, 'imagesTr') + '/*.*')\n",
    "\n",
    "    with tqdm(total=len(img_paths)) as pbar:\n",
    "        for path in img_paths:\n",
    "            msk_path = osp.join(data_dir, 'labelsTr', osp.basename(path))\n",
    "            data_dict = {'image': path, 'label': msk_path}\n",
    "            resample(data_dict, (1.5, 1.5, 2.0), data_dir)\n",
    "            pbar.update(1)\n",
    "        \n",
    "        \n",
    "        "
   ]
  },
  {
   "cell_type": "code",
   "execution_count": 5,
   "id": "8f22ead3",
   "metadata": {},
   "outputs": [
    {
     "name": "stderr",
     "output_type": "stream",
     "text": [
      "100%|█████████████████████████████████████████████| 131/131 [05:50<00:00,  2.68s/it]\n",
      "100%|█████████████████████████████████████████████| 281/281 [09:50<00:00,  2.10s/it]\n",
      "100%|█████████████████████████████████████████████| 303/303 [09:07<00:00,  1.81s/it]\n"
     ]
    }
   ],
   "source": [
    "# data_dirs = ['../../data/Task09_Spleen', \n",
    "#              '../../data/Task03_Liver', \n",
    "#              '../../data/Task07_Pancreas',\n",
    "#              '../../data/Task08_HepaticVessel']\n",
    "\n",
    "# save_dirs = ['./Spleen/data', \n",
    "#              './Liver/data', \n",
    "#              './Pancreas/data', \n",
    "#              './HepaticVessel/data']\n",
    "\n",
    "data_dirs = ['../../data/Task03_Liver', \n",
    "             '../../data/Task07_Pancreas',\n",
    "             '../../data/Task08_HepaticVessel']\n",
    "\n",
    "save_dirs = ['./Liver/data', \n",
    "             './Pancreas/data', \n",
    "             './HepaticVessel/data']\n",
    "\n",
    "for i, data_dir in enumerate(data_dirs):\n",
    "    if not osp.exists(save_dirs[i]):\n",
    "        os.mkdir(save_dirs[i])\n",
    "\n",
    "    img_paths = glob(osp.join(data_dir, 'imagesTr_res') + '/*.*')\n",
    "\n",
    "    with tqdm(total=len(img_paths)) as pbar:\n",
    "        for img_path in img_paths:\n",
    "            msk_path = osp.join(data_dir, 'labelsTr_res', osp.basename(img_path))\n",
    "            img = nib.load(img_path)\n",
    "            specs = img.affine\n",
    "            img = img.get_fdata()\n",
    "            msk = nib.load(msk_path).get_fdata()\n",
    "            npz_save_path = osp.join(save_dirs[i], f'{osp.basename(img_path)[:-7]}.npz')\n",
    "            np.savez(npz_save_path, data_image=img, data_mask=msk, data_specs=specs)\n",
    " \n",
    "            pbar.update(1)\n",
    "    "
   ]
  }
 ],
 "metadata": {
  "kernelspec": {
   "display_name": "Python 3 (ipykernel)",
   "language": "python",
   "name": "python3"
  },
  "language_info": {
   "codemirror_mode": {
    "name": "ipython",
    "version": 3
   },
   "file_extension": ".py",
   "mimetype": "text/x-python",
   "name": "python",
   "nbconvert_exporter": "python",
   "pygments_lexer": "ipython3",
   "version": "3.9.15"
  }
 },
 "nbformat": 4,
 "nbformat_minor": 5
}
